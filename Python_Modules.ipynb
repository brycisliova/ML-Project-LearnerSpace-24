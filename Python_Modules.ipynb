{
 "cells": [
  {
   "cell_type": "code",
   "id": "initial_id",
   "metadata": {
    "collapsed": true,
    "ExecuteTime": {
     "end_time": "2024-07-07T14:30:59.477869Z",
     "start_time": "2024-07-07T14:30:59.459112Z"
    }
   },
   "source": [
    "import numpy as np\n",
    "# Create a 2D Numpy array of size 1x3 with elements of your choice\n",
    "arr1=np.array([1,2,3])\n",
    "\n",
    "# Create a Numpy array of length 50 with zeroes as its elements\n",
    "arr2=np.zeros(50)\n",
    "\n",
    "#Create a Numpy array of length 3x2 with elements of your choice\n",
    "arr3=np.array([[10,20],[40,50],[70,80]])\n",
    "\n",
    "arr4=np.matmul(arr1,arr3)\n",
    "\n",
    "#Change 5th element of arr2 to a different number\n",
    "arr2[4] = 1\n",
    "arr4 = arr4.reshape(1,2)\n",
    "if np.shape(arr4)==(1,2) and arr2[4]!=0:\n",
    "  print(\"Passed\")\n",
    "else:\n",
    "  print(\"Fail\")"
   ],
   "outputs": [
    {
     "name": "stdout",
     "output_type": "stream",
     "text": [
      "Passed\n"
     ]
    }
   ],
   "execution_count": 3
  },
  {
   "metadata": {
    "ExecuteTime": {
     "end_time": "2024-07-07T14:32:38.487129Z",
     "start_time": "2024-07-07T14:32:38.475472Z"
    }
   },
   "cell_type": "code",
   "source": [
    "#Task: Perform the dot product of I and 9I+1 using numpy, here I is referred to as an 3x3 Identity matrix.\n",
    "I = np.array([[1,0,0],[0,1,0],[0,0,1]])\n",
    "M = 9*I + 1\n",
    "result = np.dot(I,M)\n",
    "print(result)\n"
   ],
   "id": "68df0c8dd8ab62ae",
   "outputs": [
    {
     "name": "stdout",
     "output_type": "stream",
     "text": [
      "[[10  1  1]\n",
      " [ 1 10  1]\n",
      " [ 1  1 10]]\n"
     ]
    }
   ],
   "execution_count": 4
  },
  {
   "metadata": {
    "ExecuteTime": {
     "end_time": "2024-07-07T14:33:13.783584Z",
     "start_time": "2024-07-07T14:33:13.475003Z"
    }
   },
   "cell_type": "code",
   "source": [
    "import pandas as pd\n",
    "\n",
    "## Create a DataFrame from a dictionary\n",
    "data = {\n",
    "    'Name': ['Ramesh', 'Mahesh', 'Suresh'],\n",
    "    'Age': [25, 30, 35],\n",
    "    'City': ['Bangalore', 'Mumbai', 'Delhi']\n",
    "}\n",
    "df = pd.DataFrame(data)\n",
    "\n",
    "#Display the first 2 rows of the data frame\n",
    "#Your code here\n",
    "df.head(2)\n",
    "\n"
   ],
   "id": "6b8483187206b34c",
   "outputs": [
    {
     "data": {
      "text/plain": [
       "     Name  Age       City\n",
       "0  Ramesh   25  Bangalore\n",
       "1  Mahesh   30     Mumbai"
      ],
      "text/html": [
       "<div>\n",
       "<style scoped>\n",
       "    .dataframe tbody tr th:only-of-type {\n",
       "        vertical-align: middle;\n",
       "    }\n",
       "\n",
       "    .dataframe tbody tr th {\n",
       "        vertical-align: top;\n",
       "    }\n",
       "\n",
       "    .dataframe thead th {\n",
       "        text-align: right;\n",
       "    }\n",
       "</style>\n",
       "<table border=\"1\" class=\"dataframe\">\n",
       "  <thead>\n",
       "    <tr style=\"text-align: right;\">\n",
       "      <th></th>\n",
       "      <th>Name</th>\n",
       "      <th>Age</th>\n",
       "      <th>City</th>\n",
       "    </tr>\n",
       "  </thead>\n",
       "  <tbody>\n",
       "    <tr>\n",
       "      <th>0</th>\n",
       "      <td>Ramesh</td>\n",
       "      <td>25</td>\n",
       "      <td>Bangalore</td>\n",
       "    </tr>\n",
       "    <tr>\n",
       "      <th>1</th>\n",
       "      <td>Mahesh</td>\n",
       "      <td>30</td>\n",
       "      <td>Mumbai</td>\n",
       "    </tr>\n",
       "  </tbody>\n",
       "</table>\n",
       "</div>"
      ]
     },
     "execution_count": 5,
     "metadata": {},
     "output_type": "execute_result"
    }
   ],
   "execution_count": 5
  },
  {
   "metadata": {
    "ExecuteTime": {
     "end_time": "2024-07-07T14:33:41.672320Z",
     "start_time": "2024-07-07T14:33:41.661358Z"
    }
   },
   "cell_type": "code",
   "source": [
    "#Print the age column\n",
    "#Your code here\n",
    "print(df['Age'])\n"
   ],
   "id": "fff1cf30620c4f2",
   "outputs": [
    {
     "name": "stdout",
     "output_type": "stream",
     "text": [
      "0    25\n",
      "1    30\n",
      "2    35\n",
      "Name: Age, dtype: int64\n"
     ]
    }
   ],
   "execution_count": 6
  },
  {
   "metadata": {
    "ExecuteTime": {
     "end_time": "2024-07-07T14:34:16.243190Z",
     "start_time": "2024-07-07T14:34:16.235980Z"
    }
   },
   "cell_type": "code",
   "source": [
    "#Filter rows where age is greater than 26\n",
    "#Your code here\n",
    "Age_more_than_26 = df['Age'] > 26\n"
   ],
   "id": "a6ab5406179c0348",
   "outputs": [],
   "execution_count": 7
  },
  {
   "metadata": {
    "ExecuteTime": {
     "end_time": "2024-07-07T14:34:50.418546Z",
     "start_time": "2024-07-07T14:34:50.406442Z"
    }
   },
   "cell_type": "code",
   "source": [
    "#Add a new column 'Country' with the value 'India' for all rows\n",
    "#Your code here\n",
    "df['Country'] = 'India'\n",
    "df.head(3)"
   ],
   "id": "7a74252a932b2722",
   "outputs": [
    {
     "data": {
      "text/plain": [
       "     Name  Age       City Country\n",
       "0  Ramesh   25  Bangalore   India\n",
       "1  Mahesh   30     Mumbai   India\n",
       "2  Suresh   35      Delhi   India"
      ],
      "text/html": [
       "<div>\n",
       "<style scoped>\n",
       "    .dataframe tbody tr th:only-of-type {\n",
       "        vertical-align: middle;\n",
       "    }\n",
       "\n",
       "    .dataframe tbody tr th {\n",
       "        vertical-align: top;\n",
       "    }\n",
       "\n",
       "    .dataframe thead th {\n",
       "        text-align: right;\n",
       "    }\n",
       "</style>\n",
       "<table border=\"1\" class=\"dataframe\">\n",
       "  <thead>\n",
       "    <tr style=\"text-align: right;\">\n",
       "      <th></th>\n",
       "      <th>Name</th>\n",
       "      <th>Age</th>\n",
       "      <th>City</th>\n",
       "      <th>Country</th>\n",
       "    </tr>\n",
       "  </thead>\n",
       "  <tbody>\n",
       "    <tr>\n",
       "      <th>0</th>\n",
       "      <td>Ramesh</td>\n",
       "      <td>25</td>\n",
       "      <td>Bangalore</td>\n",
       "      <td>India</td>\n",
       "    </tr>\n",
       "    <tr>\n",
       "      <th>1</th>\n",
       "      <td>Mahesh</td>\n",
       "      <td>30</td>\n",
       "      <td>Mumbai</td>\n",
       "      <td>India</td>\n",
       "    </tr>\n",
       "    <tr>\n",
       "      <th>2</th>\n",
       "      <td>Suresh</td>\n",
       "      <td>35</td>\n",
       "      <td>Delhi</td>\n",
       "      <td>India</td>\n",
       "    </tr>\n",
       "  </tbody>\n",
       "</table>\n",
       "</div>"
      ]
     },
     "execution_count": 9,
     "metadata": {},
     "output_type": "execute_result"
    }
   ],
   "execution_count": 9
  },
  {
   "metadata": {
    "ExecuteTime": {
     "end_time": "2024-07-07T14:39:16.304510Z",
     "start_time": "2024-07-07T14:39:16.289704Z"
    }
   },
   "cell_type": "code",
   "source": [
    "data1 = {\n",
    "    'Name': ['Ramesh', 'Mahesh', 'Suresh'],\n",
    "    'Age': [25, None, 35],\n",
    "    'City': ['Bangalore', 'Mumbai', 'Delhi']\n",
    "}\n",
    "\n",
    "df2= pd.DataFrame(data1)\n",
    "# Fill missing values in the 'Age' column with the mean age\n",
    "#Your code here\n",
    "mean = np.mean(df2['Age'])\n",
    "df2['Age'].fillna(mean,inplace=True)\n",
    "print(df2)"
   ],
   "id": "fa8ac9e86c28fa3d",
   "outputs": [
    {
     "name": "stdout",
     "output_type": "stream",
     "text": [
      "     Name   Age       City\n",
      "0  Ramesh  25.0  Bangalore\n",
      "1  Mahesh  30.0     Mumbai\n",
      "2  Suresh  35.0      Delhi\n"
     ]
    },
    {
     "name": "stderr",
     "output_type": "stream",
     "text": [
      "C:\\Users\\77777\\AppData\\Local\\Temp\\ipykernel_17744\\1751999423.py:11: FutureWarning: A value is trying to be set on a copy of a DataFrame or Series through chained assignment using an inplace method.\n",
      "The behavior will change in pandas 3.0. This inplace method will never work because the intermediate object on which we are setting values always behaves as a copy.\n",
      "\n",
      "For example, when doing 'df[col].method(value, inplace=True)', try using 'df.method({col: value}, inplace=True)' or df[col] = df[col].method(value) instead, to perform the operation inplace on the original object.\n",
      "\n",
      "\n",
      "  df2['Age'].fillna(mean,inplace=True)\n"
     ]
    }
   ],
   "execution_count": 15
  },
  {
   "metadata": {
    "ExecuteTime": {
     "end_time": "2024-07-07T14:42:56.354663Z",
     "start_time": "2024-07-07T14:42:56.022754Z"
    }
   },
   "cell_type": "code",
   "source": [
    "import matplotlib.pyplot as plt\n",
    "import numpy as np \n",
    "\n",
    "# Define the data points\n",
    "xpoints = np.array([1, 2, 3, 4])\n",
    "ypoints = np.array([2, 4, 6, 8])\n",
    "\n",
    "\n",
    "plt.figure(figsize=(10, 6))  \n",
    "plt.subplot(2, 2, 1)  \n",
    "plt.plot(xpoints, ypoints, 'o') \n",
    "plt.title(\"Plot without line\")\n",
    "\n",
    "\n",
    "plt.subplot(2, 2, 2)\n",
    "plt.plot(xpoints, ypoints, marker='*', linestyle='')  \n",
    "plt.title(\"Star marker\")\n",
    "\n",
    "\n",
    "plt.subplot(2, 2, 3)\n",
    "plt.plot(xpoints, ypoints, 'ro--') \n",
    "plt.title(\"Red color, circular marker, dashed line\")\n",
    "\n",
    "\n",
    "plt.xlabel(\"X-axis\")\n",
    "plt.ylabel(\"Y-axis\")\n",
    "plt.suptitle(\"Various Plotting Methods\")\n",
    "\n",
    "\n",
    "plt.subplot(2, 2, 4)\n",
    "colors = ['blue', 'green', 'red', 'yellow']\n",
    "plt.scatter(xpoints, ypoints, c=colors) \n",
    "plt.title(\"Scatter plot with different colors\")\n",
    "\n",
    "# Display the plots\n",
    "plt.tight_layout()\n",
    "plt.show()\n"
   ],
   "id": "73480c966fc6265",
   "outputs": [
    {
     "data": {
      "text/plain": [
       "<Figure size 1000x600 with 4 Axes>"
      ],
      "image/png": "[encoded data removed]"
     },
     "metadata": {},
     "output_type": "display_data"
    }
   ],
   "execution_count": 18
  },
  {
   "metadata": {
    "ExecuteTime": {
     "end_time": "2024-07-07T14:41:03.867278Z",
     "start_time": "2024-07-07T14:41:03.851944Z"
    }
   },
   "cell_type": "code",
   "source": [
    "import random\n",
    "import numpy as np\n",
    "\n",
    "random.seed(20)\n",
    "\n",
    "arr1 = np.array([1, 24, 31, 45, 73, 81, 94, 25])\n",
    "\n",
    "random_numbers = random.sample(list(arr1), 4)\n",
    "\n",
    "random_sum = sum(random_numbers)\n",
    "\n",
    "print(\"Randomly picked numbers:\", random_numbers)\n",
    "print(\"Sum of randomly picked numbers:\", random_sum)\n"
   ],
   "id": "61c05d8396379fab",
   "outputs": [
    {
     "name": "stdout",
     "output_type": "stream",
     "text": [
      "Randomly picked numbers: [np.int64(31), np.int64(25), np.int64(81), np.int64(1)]\n",
      "Sum of randomly picked numbers: 138\n"
     ]
    }
   ],
   "execution_count": 16
  }
 ],
 "metadata": {
  "kernelspec": {
   "display_name": "Python 3",
   "language": "python",
   "name": "python3"
  },
  "language_info": {
   "codemirror_mode": {
    "name": "ipython",
    "version": 2
   },
   "file_extension": ".py",
   "mimetype": "text/x-python",
   "name": "python",
   "nbconvert_exporter": "python",
   "pygments_lexer": "ipython2",
   "version": "2.7.6"
  }
 },
 "nbformat": 4,
 "nbformat_minor": 5
}
